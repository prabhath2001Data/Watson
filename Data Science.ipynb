{
    "cells": [
        {
            "cell_type": "markdown",
            "metadata": {
                "id": "91e0528e-fa8f-413d-9248-9ec5ed041ba1"
            },
            "source": "This notbook analyze anad vizualize sales data"
        },
        {
            "cell_type": "code",
            "execution_count": 1,
            "metadata": {
                "id": "35a95730-3c9e-43ec-b4d4-c09695c5934f"
            },
            "outputs": [
                {
                    "data": {
                        "text/html": "<div>\n<style scoped>\n    .dataframe tbody tr th:only-of-type {\n        vertical-align: middle;\n    }\n\n    .dataframe tbody tr th {\n        vertical-align: top;\n    }\n\n    .dataframe thead th {\n        text-align: right;\n    }\n</style>\n<table border=\"1\" class=\"dataframe\">\n  <thead>\n    <tr style=\"text-align: right;\">\n      <th></th>\n      <th>TransactionID</th>\n      <th>ProductID</th>\n      <th>CustomerID</th>\n      <th>Quantity</th>\n      <th>SalesAmount</th>\n      <th>TransactionDate</th>\n    </tr>\n  </thead>\n  <tbody>\n    <tr>\n      <th>0</th>\n      <td>1.0</td>\n      <td>1</td>\n      <td>1</td>\n      <td>2</td>\n      <td>600.0</td>\n      <td>1/4/2023</td>\n    </tr>\n    <tr>\n      <th>1</th>\n      <td>31.0</td>\n      <td>31</td>\n      <td>31</td>\n      <td>3</td>\n      <td>1500.0</td>\n      <td>1/5/2023</td>\n    </tr>\n    <tr>\n      <th>2</th>\n      <td>NaN</td>\n      <td>3</td>\n      <td>3</td>\n      <td>3</td>\n      <td>NaN</td>\n      <td>3/4/2023</td>\n    </tr>\n    <tr>\n      <th>3</th>\n      <td>2.0</td>\n      <td>2</td>\n      <td>2</td>\n      <td>1</td>\n      <td>200.0</td>\n      <td>2/4/2023</td>\n    </tr>\n    <tr>\n      <th>4</th>\n      <td>32.0</td>\n      <td>32</td>\n      <td>32</td>\n      <td>4</td>\n      <td>400.0</td>\n      <td>2/5/2023</td>\n    </tr>\n    <tr>\n      <th>5</th>\n      <td>33.0</td>\n      <td>33</td>\n      <td>33</td>\n      <td>1</td>\n      <td>600.0</td>\n      <td>3/5/2023</td>\n    </tr>\n    <tr>\n      <th>6</th>\n      <td>4.0</td>\n      <td>4</td>\n      <td>4</td>\n      <td>1</td>\n      <td>100.0</td>\n      <td>4/4/2023</td>\n    </tr>\n    <tr>\n      <th>7</th>\n      <td>34.0</td>\n      <td>34</td>\n      <td>34</td>\n      <td>2</td>\n      <td>800.0</td>\n      <td>4/5/2023</td>\n    </tr>\n    <tr>\n      <th>8</th>\n      <td>5.0</td>\n      <td>5</td>\n      <td>5</td>\n      <td>4</td>\n      <td>1600.0</td>\n      <td>5/4/2023</td>\n    </tr>\n    <tr>\n      <th>9</th>\n      <td>NaN</td>\n      <td>10</td>\n      <td>10</td>\n      <td>3</td>\n      <td>1500.0</td>\n      <td>10/4/2023</td>\n    </tr>\n  </tbody>\n</table>\n</div>",
                        "text/plain": "   TransactionID  ProductID  CustomerID  Quantity  SalesAmount TransactionDate\n0            1.0          1           1         2        600.0        1/4/2023\n1           31.0         31          31         3       1500.0        1/5/2023\n2            NaN          3           3         3          NaN        3/4/2023\n3            2.0          2           2         1        200.0        2/4/2023\n4           32.0         32          32         4        400.0        2/5/2023\n5           33.0         33          33         1        600.0        3/5/2023\n6            4.0          4           4         1        100.0        4/4/2023\n7           34.0         34          34         2        800.0        4/5/2023\n8            5.0          5           5         4       1600.0        5/4/2023\n9            NaN         10          10         3       1500.0       10/4/2023"
                    },
                    "execution_count": 1,
                    "metadata": {},
                    "output_type": "execute_result"
                }
            ],
            "source": "# The code was removed by Watson Studio for sharing."
        },
        {
            "cell_type": "code",
            "execution_count": null,
            "metadata": {
                "id": "9987445e-6929-4b34-9649-795c8d16d9e1"
            },
            "outputs": [],
            "source": ""
        },
        {
            "cell_type": "code",
            "execution_count": null,
            "metadata": {
                "id": "d9c0539b-7617-4f4a-ad8c-71f4eb65a09b"
            },
            "outputs": [],
            "source": ""
        }
    ],
    "metadata": {
        "kernelspec": {
            "display_name": "Python 3.11",
            "language": "python",
            "name": "python3"
        },
        "language_info": {
            "codemirror_mode": {
                "name": "ipython",
                "version": 3
            },
            "file_extension": ".py",
            "mimetype": "text/x-python",
            "name": "python",
            "nbconvert_exporter": "python",
            "pygments_lexer": "ipython3",
            "version": "3.11.9"
        }
    },
    "nbformat": 4,
    "nbformat_minor": 4
}